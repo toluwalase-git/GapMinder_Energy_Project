{
 "cells": [
  {
   "cell_type": "markdown",
   "metadata": {},
   "source": [
    "\n",
    "# Project: Investigating GapMinder Energy and Emission Data\n",
    "\n",
    "## Table of Contents\n",
    "<ul>\n",
    "<li><a href=\"#intro\">Introduction</a></li>\n",
    "<li><a href=\"#conclusions\">Conclusions</a></li>\n",
    "</ul>"
   ]
  },
  {
   "cell_type": "markdown",
   "metadata": {},
   "source": [
    "<a id='intro'></a>\n",
    "# Introduction\n",
    "\n",
    "**Energy transition has become a global topical issue since the continous effect of greenhouse emission to the climate. Since the Paris agreement agenda, it is expected that many nations should begin to take measures to transition from fossil fuels which is the primary source of C02 in the atmosphere.**\n",
    "\n",
    "**Energy data has been collected from gapminder in other to be informed about the energy consumption of nations, the amount of emission generated and their population. The data set contains countries' total populations, energy use per person, c02 emision per person, and the total oil produced if the country is an oil producing country. The data collected is for year 2000 and 2010, showing a 10-year span. The analysis is assuming a reference year of 2010.**\n",
    "\n",
    "**This analysis should answer the following questions:**\n",
    "\n",
    "> ### Q1: Do countries with higher population release more of the global emission per person?\n",
    "> ### Q2: Are the non oil producing countries emitting lesser C02 than the oil producing regons?\n",
    "> ### Q3: How many countries have become more energy efficient since the last 10 years?\n",
    "> ### Q4: Which country has had the greatest emission drop for the last 10 years?\n",
    "> ### Q5: What are the features of a high energy consuming nation?\n"
   ]
  },
  {
   "cell_type": "markdown",
   "metadata": {},
   "source": [
    "<a id='conclusions'></a>\n",
    "## Conclusions\n",
    "\n",
    "**This report shows the analysis done on GapMinder Energy and Emission Data. This work was able to answer specific quuestion including:**\n",
    "**Q1: Do countries with higher population release more of the global emission per person?**\n",
    "\n",
    "**Q2: Are the non oil producing countries emitting lesser C02 than the oil producing regons?**\n",
    "\n",
    "**Q3: How many countries have become more energy efficient since the last 10 years?**\n",
    "\n",
    "**Q4: Which country has had the greatest emission drop for the last 10 years?**\n",
    "\n",
    "**Q5: What are the features of a high energy consuming nation?**\n",
    "\n",
    "**It was observed from the exploratory scatter plot analysis that there is no correlation between the population of a country and the amount of C02 emitted.** \n",
    "\n",
    "**As shown on the bar chart, a low population size had higher C02 emission than a high and dense population size. This further butress the no correlation betwen population size and C02 emission.**\n",
    "\n",
    "**The result of the analysis also shows that oil producing countries emits more Co2 than non-oil producing nations.**\n",
    "\n",
    "**In quest of a reducing C02 emission, the data analysis suggests that at least 61 countries has reduced their emission in the last 10 years With Qatar on the top list**\n",
    "\n",
    "**High energy consuming nations seem to emit more C02 than low energy consuming nations . The analysis gave a ratio of about 12 to 2. The results also suggests there isn't a correlation between energy consumption per person and total population.**\n",
    "\n",
    "### Shortcomings and Data Limitation\n",
    "**Some parts of the data were missing:**\n",
    "\n",
    "**8 countries do not have recorded C02 emission values. Rather than droppng the rows, the median which signifies the middle possible value was used. This could affect the accuracy of the results.**\n",
    "\n",
    "**61 countries are absent in the energy use data, the median was used to fill the nulls.**\n",
    "\n",
    "**4 countries have missing population data, the median was used to fill nulls.**\n",
    "\n",
    "**NB**: **Non-oil producing nulls are accurate as zeroes.**"
   ]
  }
 ],
 "metadata": {
  "kernelspec": {
   "display_name": "Python 3 (ipykernel)",
   "language": "python",
   "name": "python3"
  },
  "language_info": {
   "codemirror_mode": {
    "name": "ipython",
    "version": 3
   },
   "file_extension": ".py",
   "mimetype": "text/x-python",
   "name": "python",
   "nbconvert_exporter": "python",
   "pygments_lexer": "ipython3",
   "version": "3.9.12"
  }
 },
 "nbformat": 4,
 "nbformat_minor": 2
}
